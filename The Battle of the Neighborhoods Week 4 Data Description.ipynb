{
 "cells": [
  {
   "cell_type": "markdown",
   "metadata": {},
   "source": [
    "# The Battle of the Neighborhoods Week 4 Data Description"
   ]
  },
  {
   "cell_type": "markdown",
   "metadata": {},
   "source": [
    "### Data:\n",
    "The city of Athens will be analyzed in this project.\n",
    "The datasets that will be used for the analysis are presented briefly below.\n",
    "\n",
    "<b><i>Dataset 1 </i></b> The first dataset consists of the neighborhoods of Athens city. In order to segment the neighborhoods and explore them, we will essentially need a dataset that contains the neighborhoods that exist as well as the the latitude and logitude coordinates of each neighborhood.\n",
    "\n",
    "The number, name and latitude/logitude coordinates of each neighborhood was optained from the athenswalker.blogspot.com using the google map https://www.google.com/maps/d/viewer?msa=0&hl=en&ie=UTF8&ll=37.98538222504963%2C23.762483804443377&spn=0.074068%2C0.11467&t=m&source=embed&mid=1wbYKVnyGRGwA36M7TH8675VYdbU&z=12"
   ]
  },
  {
   "cell_type": "markdown",
   "metadata": {},
   "source": [
    "<b><i>Dataset 2 </i></b> The second dataset consist of the list of the universities (10 in total) located in Athens.\n",
    "The information about the location of each university was obtained from goolge maps. https://www.google.com/maps/d/viewer?mid=1OB_wrV3gWqu2N8OfpiJXV28A5XdYaQSe&ll=37.978209711426594%2C23.72226307884489&z=14"
   ]
  },
  {
   "cell_type": "markdown",
   "metadata": {},
   "source": [
    "<b><i>Dataset 3 </i></b> This dataset contains the position of each underground / metro station, again the information was obtaind from google maps https://www.google.com/maps/d/viewer?ie=UTF8&oe=UTF8&msa=0&dg=feature&mid=1Uq7DL2Qt8S3jMWCtzhLhv34YZ84&ll=38.04535248737096%2C23.873879538773167&z=11"
   ]
  },
  {
   "cell_type": "markdown",
   "metadata": {},
   "source": [
    "<b><i>Dataset 4 </i></b> This dataset has the location of the museums located in Athens. The dataset was generated using google maps https://www.google.com/maps/d/viewer?mid=1EiQ39ZAdCdALBVAFrwS4yaLTef8_OrYz&ll=37.979943299855655%2C23.73096498068844&z=14"
   ]
  },
  {
   "cell_type": "markdown",
   "metadata": {},
   "source": [
    "<b><i>Dataset 5 </i></b> Athens city geographical coordinates data will be utilized as input for the Foursquare API, that will be leveraged to provision venues information for each neighborhood.We will use the Foursquare API to explore neighborhoods in Athens city."
   ]
  },
  {
   "cell_type": "code",
   "execution_count": null,
   "metadata": {},
   "outputs": [],
   "source": []
  }
 ],
 "metadata": {
  "kernelspec": {
   "display_name": "Python 3",
   "language": "python",
   "name": "python3"
  },
  "language_info": {
   "codemirror_mode": {
    "name": "ipython",
    "version": 3
   },
   "file_extension": ".py",
   "mimetype": "text/x-python",
   "name": "python",
   "nbconvert_exporter": "python",
   "pygments_lexer": "ipython3",
   "version": "3.7.3"
  }
 },
 "nbformat": 4,
 "nbformat_minor": 2
}
