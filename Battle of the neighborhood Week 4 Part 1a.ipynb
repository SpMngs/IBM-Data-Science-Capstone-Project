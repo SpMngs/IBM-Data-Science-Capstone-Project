{
 "cells": [
  {
   "cell_type": "markdown",
   "metadata": {},
   "source": [
    "# The Battle of the Neighborhoods - Week 1"
   ]
  },
  {
   "cell_type": "markdown",
   "metadata": {},
   "source": [
    "## Introduction & Business Problem:"
   ]
  },
  {
   "cell_type": "markdown",
   "metadata": {},
   "source": [
    "### 1) Problem Background:\n",
    "\n",
    "Athens is the capital and largest city of Greece. It is multicultural city and tourist attraction with visiotrs from all over the globe. Athens is a multicultural city that is loaded with museums, hotels, universities, cafes and restaurants.\n",
    "\n",
    "That means that the market is highly competitive. As it is highly developed city the cost of starting and maintaining a business is also one of the highest. Thus, any new business venture or expansion needs to be analysed carefully. The insights derived from analysis will give good understanding of the business environment which help in strategically targeting the market. This will help in reduction of risk to run out of business.\n",
    "\n",
    "    "
   ]
  },
  {
   "cell_type": "markdown",
   "metadata": {},
   "source": [
    "### 2) Problem Description\n",
    "\n",
    "A food chain is looking for a place to open its new restaurant. As it was mentioned in the problem's background section the selection of the ideal location is of crucial importance. Various factors need to be taken under consideration and studied in order to decide the correct location. Factors such as:\n",
    "\n",
    "<ul>\n",
    "<li>Distance from Metro / Underground stations</li>\n",
    "<li>Distance from Museums</li>\n",
    "<li>Distance from Universities</li>\n",
    " <li>Saturated markets</li>\n",
    "    <li>Distance from entertainment zones or events, in which floating population is hight etc</li>\n",
    "</ul>"
   ]
  },
  {
   "cell_type": "markdown",
   "metadata": {},
   "source": [
    "### 3) Target Audicence\n",
    "\n",
    "The objective is to locate and recommend to the management which neighborhood of Athens city will be best choice to start a restaurant. The main target group is tourists, university students and be near areas that attract people due to events.\n",
    "\n",
    "\n",
    "\n"
   ]
  },
  {
   "cell_type": "markdown",
   "metadata": {},
   "source": [
    "### 4) Success Criteria\n",
    "The success criteria of the project will be a good recommendation of  Neighborhood choices to the restaurant's management based on the lack of restaurant in a location that is close to museums, metro stations and universities."
   ]
  },
  {
   "cell_type": "code",
   "execution_count": null,
   "metadata": {},
   "outputs": [],
   "source": []
  }
 ],
 "metadata": {
  "kernelspec": {
   "display_name": "Python 3",
   "language": "python",
   "name": "python3"
  },
  "language_info": {
   "codemirror_mode": {
    "name": "ipython",
    "version": 3
   },
   "file_extension": ".py",
   "mimetype": "text/x-python",
   "name": "python",
   "nbconvert_exporter": "python",
   "pygments_lexer": "ipython3",
   "version": "3.7.3"
  }
 },
 "nbformat": 4,
 "nbformat_minor": 2
}
